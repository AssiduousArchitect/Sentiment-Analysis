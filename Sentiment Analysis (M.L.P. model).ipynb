{
 "cells": [
  {
   "cell_type": "markdown",
   "metadata": {},
   "source": [
    "# Sentiment Analysis using a Multi-Layer Perceptron Model.\n",
    "\n",
    "According to dictionary, sentiment analysis (aka opinion mining) is the process of computationally identifying and categorizing opinions expressed in a piece of text, especially in order to determine whether the writer's attitude towards a particular topic, product, etc. is positive, negative, or neutral.\n",
    "\n",
    "Our objective is to train a neural network and mould it into a textual sentiment aficionado.\n",
    "\n",
    "## 1. Import Libraries."
   ]
  },
  {
   "cell_type": "code",
   "execution_count": 35,
   "metadata": {},
   "outputs": [],
   "source": [
    "%matplotlib inline\n",
    "from matplotlib import pyplot as plt\n",
    "\n",
    "import numpy as np\n",
    "from keras.datasets import imdb\n",
    "\n",
    "from keras.models import Sequential\n",
    "from keras.layers import Dense\n",
    "from keras.layers import Flatten\n",
    "from keras import optimizers\n",
    "from keras.layers.embeddings import Embedding\n",
    "from keras.preprocessing import sequence\n",
    "\n",
    "from sklearn.metrics import accuracy_score"
   ]
  },
  {
   "cell_type": "markdown",
   "metadata": {},
   "source": [
    "## 2. Peek at the data.\n",
    "Keras library has a preprocessed version of the IMDB movie reviews library which we will be using to train our sentiment analysis model. which contains 50,000 reviews collected from IMDB (Internet Movie Database). These reviews are cleaned and all the words are mapped to respective integers.\n",
    "\n",
    "\n",
    "About 80% of all written material uses only 5000 words, based on a research by Francis and Kucera in 1982. The following chart is a product of their labour. Other words seldom appear in written text. Therefore we will load only the top 5000 words from the dataset.\n",
    "\n",
    "![word chart](https://marcgawley.files.wordpress.com/2011/10/graph-of-vocabulary-size-for-percentage-of-written-english-text-covered1.png)\n",
    "\n",
    "We will train our network on 25,000 reviews and test it on another 25,000. "
   ]
  },
  {
   "cell_type": "code",
   "execution_count": 117,
   "metadata": {},
   "outputs": [
    {
     "name": "stdout",
     "output_type": "stream",
     "text": [
      "Number of reviews in training set = 25000\n",
      "Number of reviews in testing set = 25000\n"
     ]
    }
   ],
   "source": [
    "max_vocab_size = 5000\n",
    "(train_data, train_labels), (test_data, test_labels) = imdb.load_data(num_words = max_vocab_size)\n",
    "print(\"Number of reviews in training set =\", len(train_data))\n",
    "print(\"Number of reviews in testing set =\", len(test_data))"
   ]
  },
  {
   "cell_type": "code",
   "execution_count": 118,
   "metadata": {},
   "outputs": [
    {
     "name": "stdout",
     "output_type": "stream",
     "text": [
      "Total number of words = 11737946\n",
      "Total number of unique words = 4998\n"
     ]
    }
   ],
   "source": [
    "print(\"Total number of words =\", len(np.hstack(train_data + test_data)))\n",
    "print(\"Total number of unique words =\", len(np.unique(np.hstack(train_data + test_data))))"
   ]
  },
  {
   "cell_type": "markdown",
   "metadata": {},
   "source": [
    "### Box and whiskers\n",
    "Box and whiskers is a type of plot which gives us a better insight into the data which we are about to use. We calculate the number of words in each review and plot it. The median comes close to around 450 and the red line represents the median of the data. You can learn about box and whiskers [here](https://www.khanacademy.org/math/statistics-probability/summarizing-quantitative-data/box-whisker-plots/a/box-plot-review).  \n",
    "\n",
    "We will take 500 as the maximum number of words for any review and doing so will guarantee uniformity in our data. We will clip any review which has more words and will pad those reviews with zeros which has lesser number of words. "
   ]
  },
  {
   "cell_type": "code",
   "execution_count": 119,
   "metadata": {},
   "outputs": [
    {
     "data": {
      "text/plain": [
       "{'whiskers': [<matplotlib.lines.Line2D at 0x1ed67e67240>,\n",
       "  <matplotlib.lines.Line2D at 0x1ed67e67748>],\n",
       " 'caps': [<matplotlib.lines.Line2D at 0x1ed67e67b70>,\n",
       "  <matplotlib.lines.Line2D at 0x1ed67e67a20>],\n",
       " 'boxes': [<matplotlib.lines.Line2D at 0x1ed67e67710>],\n",
       " 'medians': [<matplotlib.lines.Line2D at 0x1ed67e49400>],\n",
       " 'fliers': [<matplotlib.lines.Line2D at 0x1ed67e49898>],\n",
       " 'means': []}"
      ]
     },
     "execution_count": 119,
     "metadata": {},
     "output_type": "execute_result"
    },
    {
     "data": {
      "image/png": "[encoded data removed]",
      "text/plain": [
       "<Figure size 432x288 with 1 Axes>"
      ]
     },
     "metadata": {
      "needs_background": "light"
     },
     "output_type": "display_data"
    }
   ],
   "source": [
    "review_len = [len(rev) for rev in train_data + test_data]\n",
    "plt.boxplot(review_len, notch=True, vert=False)"
   ]
  },
  {
   "cell_type": "code",
   "execution_count": 149,
   "metadata": {},
   "outputs": [],
   "source": [
    "max_words = 500\n",
    "train_data = sequence.pad_sequences(train_data, maxlen = max_words, padding='post')\n",
    "test_data = sequence.pad_sequences(test_data, maxlen = max_words, padding='post')"
   ]
  },
  {
   "cell_type": "markdown",
   "metadata": {},
   "source": [
    "## 3. Define the neural network.\n",
    "\n",
    "We will use a sequential neural network with an embedding layer. A word embedding is a learned representation for text where words that have the same meaning have a similar representation. It is this approach to representing words and documents that may be considered one of the key breakthroughs of deep learning on challenging natural language processing problems.\n",
    "\n",
    "The embedding layer creates a table of 5000 words(in this case) and then maps each word(which is currently in the form of integers) in such a way that the closely associated words have similar representations while the once which aren't related do not. Word embeddings are in fact a class of techniques where individual words are represented as real-valued vectors in a predefined vector space. Each word is mapped to one vector and the vector values are learned in a way that resembles a neural network, and hence the technique is often lumped into the field of deep learning. \n",
    "\n",
    "Notice how in the following picture, similar words are clumped together.\n",
    "![Word Embeddings](https://shanelynnwebsite-mid9n9g1q9y8tt.netdna-ssl.com/wp-content/uploads/2018/01/word-vector-space-similar-words.png)"
   ]
  },
  {
   "cell_type": "code",
   "execution_count": 176,
   "metadata": {},
   "outputs": [
    {
     "name": "stdout",
     "output_type": "stream",
     "text": [
      "_________________________________________________________________\n",
      "Layer (type)                 Output Shape              Param #   \n",
      "=================================================================\n",
      "embedding_29 (Embedding)     (None, 500, 128)          640000    \n",
      "_________________________________________________________________\n",
      "flatten_28 (Flatten)         (None, 64000)             0         \n",
      "_________________________________________________________________\n",
      "dense_66 (Dense)             (None, 128)               8192128   \n",
      "_________________________________________________________________\n",
      "dense_67 (Dense)             (None, 1)                 129       \n",
      "=================================================================\n",
      "Total params: 8,832,257\n",
      "Trainable params: 8,832,257\n",
      "Non-trainable params: 0\n",
      "_________________________________________________________________\n",
      "None\n",
      "Train on 20000 samples, validate on 5000 samples\n",
      "Epoch 1/2\n",
      "20000/20000 [==============================] - 52s 3ms/step - loss: 0.5236 - acc: 0.7242 - val_loss: 0.3175 - val_acc: 0.8636\n",
      "Epoch 2/2\n",
      "20000/20000 [==============================] - 49s 2ms/step - loss: 0.1579 - acc: 0.9407 - val_loss: 0.3199 - val_acc: 0.8698\n"
     ]
    },
    {
     "data": {
      "text/plain": [
       "<keras.callbacks.History at 0x1ed08128f98>"
      ]
     },
     "execution_count": 176,
     "metadata": {},
     "output_type": "execute_result"
    }
   ],
   "source": [
    "######## HYPER-PARAMETERS ########\n",
    "epochs = 2\n",
    "batch_size = 128\n",
    "learning_rate = 0.001\n",
    "#################################\n",
    "\n",
    "\n",
    "model = Sequential()\n",
    "model.add(Embedding(max_vocab_size, 128, input_length = max_words))\n",
    "model.add(Flatten())\n",
    "model.add(Dense(128, activation = 'relu'))\n",
    "model.add(Dense(1, activation = 'sigmoid'))\n",
    "adam = optimizers.adam(lr = learning_rate)\n",
    "model.compile(loss='binary_crossentropy', optimizer=adam, metrics=['accuracy'])\n",
    "print(model.summary())\n",
    "\n",
    "model.fit(\n",
    "            train_data, \n",
    "            train_labels,\n",
    "            epochs = epochs,\n",
    "            batch_size = batch_size,\n",
    "            validation_split = 0.2 \n",
    "          )"
   ]
  },
  {
   "cell_type": "markdown",
   "metadata": {},
   "source": [
    "## 4. Testing our model.\n",
    "We got the highest **validation accuracy of 86.98%** and a **test accuracy of 87.21%**. We trained a fine model. \n"
   ]
  },
  {
   "cell_type": "code",
   "execution_count": 177,
   "metadata": {},
   "outputs": [
    {
     "name": "stdout",
     "output_type": "stream",
     "text": [
      "accuracy = 86.6 %\n"
     ]
    }
   ],
   "source": [
    "predicted_labels = model.predict(test_data)\n",
    "print(\"accuracy =\", accuracy_score(test_labels, predicted_labels.round())*100, \"%\")"
   ]
  },
  {
   "cell_type": "markdown",
   "metadata": {},
   "source": [
    "## 5. Confusion Matrix.\n",
    "\n",
    "Now, we plot the confusion matrix to gain a better understanding of our model's predictions. Y-axis - represents the true sentiments behind the reviews while the X-axis shows the predicted values.\n",
    "\n",
    "Our model did perform decently but there are about 1,400 false positive results and 1,800 false negative ones. We will try out different models to gain better results.\n"
   ]
  },
  {
   "cell_type": "code",
   "execution_count": 178,
   "metadata": {},
   "outputs": [
    {
     "data": {
      "text/plain": [
       "<matplotlib.axes._subplots.AxesSubplot at 0x1ed08128cf8>"
      ]
     },
     "execution_count": 178,
     "metadata": {},
     "output_type": "execute_result"
    },
    {
     "data": {
      "image/png": "[encoded data removed]",
      "text/plain": [
       "<Figure size 720x504 with 2 Axes>"
      ]
     },
     "metadata": {
      "needs_background": "light"
     },
     "output_type": "display_data"
    }
   ],
   "source": [
    "from sklearn.metrics import confusion_matrix\n",
    "import seaborn as sn\n",
    "import pandas as pd\n",
    "\n",
    "cm = confusion_matrix(test_labels, predicted_labels.round())\n",
    "df_cm = pd.DataFrame(cm, index = ['Actual Positive', 'Actual Negative'], columns  = ['Predicted Positive', 'Predicted Negative'])\n",
    "plt.figure(figsize = (10,7))\n",
    "sn.heatmap(df_cm, annot=True, fmt='g')\n",
    "                     "
   ]
  },
  {
   "cell_type": "markdown",
   "metadata": {},
   "source": [
    "Please checkout the other sentiment analysis models in this repository. I experimented with various models to find out which one does the job better. "
   ]
  }
 ],
 "metadata": {
  "kernelspec": {
   "display_name": "Python 3",
   "language": "python",
   "name": "python3"
  },
  "language_info": {
   "codemirror_mode": {
    "name": "ipython",
    "version": 3
   },
   "file_extension": ".py",
   "mimetype": "text/x-python",
   "name": "python",
   "nbconvert_exporter": "python",
   "pygments_lexer": "ipython3",
   "version": "3.6.6"
  }
 },
 "nbformat": 4,
 "nbformat_minor": 2
}
