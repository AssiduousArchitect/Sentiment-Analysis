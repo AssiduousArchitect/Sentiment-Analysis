{
  "nbformat": 4,
  "nbformat_minor": 0,
  "metadata": {
    "colab": {
      "name": "Sentiment Analysis (1D C.N.N.)",
      "version": "0.3.2",
      "provenance": [],
      "collapsed_sections": []
    },
    "kernelspec": {
      "name": "python3",
      "display_name": "Python 3"
    }
  },
  "cells": [
    {
      "metadata": {
        "id": "A5_LHGmEJt2u",
        "colab_type": "text"
      },
      "cell_type": "markdown",
      "source": [
        "# Sentiment Analysis using a1-D C.N.N.\n",
        "\n",
        "According to dictionary, sentiment analysis (aka opinion mining) is the process of computationally identifying and categorizing opinions expressed in a piece of text, especially in order to determine whether the writer's attitude towards a particular topic, product, etc. is positive, negative, or neutral.\n",
        "\n",
        "Our objective is to train a neural network and mould it into a textual sentiment aficionado.\n",
        "\n",
        "## 1. Import Libraries."
      ]
    },
    {
      "metadata": {
        "id": "RMc7zHv4GngJ",
        "colab_type": "code",
        "colab": {
          "base_uri": "https://localhost:8080/",
          "height": 34
        },
        "outputId": "2bbcac41-5292-42d7-8813-74e2c077f663"
      },
      "cell_type": "code",
      "source": [
        "%matplotlib inline\n",
        "from matplotlib import pyplot as plt\n",
        "\n",
        "import numpy as np\n",
        "from keras.datasets import imdb\n",
        "\n",
        "from keras.models import Sequential\n",
        "from keras.layers import Dense\n",
        "from keras.layers import Flatten\n",
        "from keras.layers.convolutional import Conv1D\n",
        "from keras.layers.convolutional import MaxPooling1D\n",
        "from keras.layers.embeddings import Embedding\n",
        "from keras.preprocessing import sequence\n",
        "\n",
        "from sklearn.metrics import accuracy_score"
      ],
      "execution_count": 1,
      "outputs": [
        {
          "output_type": "stream",
          "text": [
            "Using TensorFlow backend.\n"
          ],
          "name": "stderr"
        }
      ]
    },
    {
      "metadata": {
        "id": "904zK3pkJwJg",
        "colab_type": "text"
      },
      "cell_type": "markdown",
      "source": [
        "## 2. Load the data."
      ]
    },
    {
      "metadata": {
        "id": "Sa1zpz4ZIRWs",
        "colab_type": "code",
        "colab": {
          "base_uri": "https://localhost:8080/",
          "height": 84
        },
        "outputId": "0402d772-f0c3-4b42-9376-6a39209e3fab"
      },
      "cell_type": "code",
      "source": [
        "max_vocab_size = 5000\n",
        "(train_data, train_labels), (test_data, test_labels) = imdb.load_data(num_words = max_vocab_size)\n",
        "print(\"Number of reviews in training set =\", len(train_data))\n",
        "print(\"Number of reviews in testing set =\", len(test_data))"
      ],
      "execution_count": 2,
      "outputs": [
        {
          "output_type": "stream",
          "text": [
            "Downloading data from https://s3.amazonaws.com/text-datasets/imdb.npz\n",
            "17465344/17464789 [==============================] - 0s 0us/step\n",
            "Number of reviews in training set = 25000\n",
            "Number of reviews in testing set = 25000\n"
          ],
          "name": "stdout"
        }
      ]
    },
    {
      "metadata": {
        "id": "z1KciwneISY6",
        "colab_type": "code",
        "colab": {}
      },
      "cell_type": "code",
      "source": [
        "max_words = 500\n",
        "train_data = sequence.pad_sequences(train_data, maxlen = max_words, padding='post')\n",
        "test_data = sequence.pad_sequences(test_data, maxlen = max_words, padding='post')"
      ],
      "execution_count": 0,
      "outputs": []
    },
    {
      "metadata": {
        "id": "8RkqBUHTJ7p1",
        "colab_type": "text"
      },
      "cell_type": "markdown",
      "source": [
        "## 3. Define the neural network.\n",
        "\n",
        "We will use a one dimensional convolutional neural network which will help us identify local patterns in senteces."
      ]
    },
    {
      "metadata": {
        "id": "wZFEYaTdIUto",
        "colab_type": "code",
        "colab": {
          "base_uri": "https://localhost:8080/",
          "height": 454
        },
        "outputId": "2d8d143c-329d-4e87-d0ad-2bea34683cf3"
      },
      "cell_type": "code",
      "source": [
        "######## HYPER-PARAMETERS ########\n",
        "epochs = 2\n",
        "batch_size = 128\n",
        "learning_rate = 0.001\n",
        "#################################\n",
        "\n",
        "model = Sequential()\n",
        "model.add(Embedding(max_vocab_size, 64, input_length = max_words))\n",
        "\n",
        "model.add(Conv1D(filters=32, kernel_size=3, padding='same', activation='relu'))\n",
        "model.add(MaxPooling1D(pool_size=2))\n",
        "model.add(Flatten())\n",
        "\n",
        "model.add(Dense(128, activation='relu'))\n",
        "model.add(Dense(1, activation='sigmoid'))\n",
        "model.compile(loss='binary_crossentropy', optimizer='adam', metrics=['accuracy'])\n",
        "print(model.summary())\n",
        "\n",
        "model.fit(\n",
        "            train_data, \n",
        "            train_labels,\n",
        "            epochs = epochs,\n",
        "            batch_size = batch_size,\n",
        "            validation_split = 0.2 \n",
        "          )"
      ],
      "execution_count": 32,
      "outputs": [
        {
          "output_type": "stream",
          "text": [
            "_________________________________________________________________\n",
            "Layer (type)                 Output Shape              Param #   \n",
            "=================================================================\n",
            "embedding_12 (Embedding)     (None, 500, 64)           320000    \n",
            "_________________________________________________________________\n",
            "conv1d_13 (Conv1D)           (None, 500, 32)           6176      \n",
            "_________________________________________________________________\n",
            "max_pooling1d_13 (MaxPooling (None, 250, 32)           0         \n",
            "_________________________________________________________________\n",
            "flatten_12 (Flatten)         (None, 8000)              0         \n",
            "_________________________________________________________________\n",
            "dense_26 (Dense)             (None, 128)               1024128   \n",
            "_________________________________________________________________\n",
            "dense_27 (Dense)             (None, 1)                 129       \n",
            "=================================================================\n",
            "Total params: 1,350,433\n",
            "Trainable params: 1,350,433\n",
            "Non-trainable params: 0\n",
            "_________________________________________________________________\n",
            "None\n",
            "Train on 20000 samples, validate on 5000 samples\n",
            "Epoch 1/2\n",
            "20000/20000 [==============================] - 27s 1ms/step - loss: 0.6455 - acc: 0.5919 - val_loss: 0.4334 - val_acc: 0.8426\n",
            "Epoch 2/2\n",
            "20000/20000 [==============================] - 26s 1ms/step - loss: 0.2944 - acc: 0.8814 - val_loss: 0.2874 - val_acc: 0.8828\n"
          ],
          "name": "stdout"
        },
        {
          "output_type": "execute_result",
          "data": {
            "text/plain": [
              "<keras.callbacks.History at 0x7f9c34dc0f60>"
            ]
          },
          "metadata": {
            "tags": []
          },
          "execution_count": 32
        }
      ]
    },
    {
      "metadata": {
        "id": "afZ3dS7EKGDB",
        "colab_type": "text"
      },
      "cell_type": "markdown",
      "source": [
        "## 4. Testing our model.\n",
        "We got the highest **validation accuracy of 88.28%** and a **test accuracy of 88.34%**. We trained a fine model. \n"
      ]
    },
    {
      "metadata": {
        "id": "EDnGNoQXIWaz",
        "colab_type": "code",
        "colab": {
          "base_uri": "https://localhost:8080/",
          "height": 34
        },
        "outputId": "f7ab2e4a-d417-4b08-c428-ba78bd0116ff"
      },
      "cell_type": "code",
      "source": [
        "predicted_labels = model.predict(test_data)\n",
        "print(\"accuracy =\", accuracy_score(test_labels, predicted_labels.round())*100, \"%\")"
      ],
      "execution_count": 34,
      "outputs": [
        {
          "output_type": "stream",
          "text": [
            "accuracy = 88.344 %\n"
          ],
          "name": "stdout"
        }
      ]
    },
    {
      "metadata": {
        "id": "lMER7tclKMEp",
        "colab_type": "text"
      },
      "cell_type": "markdown",
      "source": [
        "## 5. Confusion Matrix."
      ]
    },
    {
      "metadata": {
        "id": "Zh6eegSQIZCJ",
        "colab_type": "code",
        "colab": {
          "base_uri": "https://localhost:8080/",
          "height": 445
        },
        "outputId": "3d2b8ea6-5e61-4574-a6bd-71e448d291e9"
      },
      "cell_type": "code",
      "source": [
        "from sklearn.metrics import confusion_matrix\n",
        "import seaborn as sn\n",
        "import pandas as pd\n",
        "\n",
        "cm = confusion_matrix(test_labels, predicted_labels.round())\n",
        "df_cm = pd.DataFrame(cm, index = ['Actually Positive', 'Actually Negative'], columns  = ['Predicted Positive', 'Predicted Negative'])\n",
        "plt.figure(figsize = (10,7))\n",
        "sn.heatmap(df_cm, annot=True, fmt='g')"
      ],
      "execution_count": 35,
      "outputs": [
        {
          "output_type": "execute_result",
          "data": {
            "text/plain": [
              "<matplotlib.axes._subplots.AxesSubplot at 0x7f9c36141978>"
            ]
          },
          "metadata": {
            "tags": []
          },
          "execution_count": 35
        },
        {
          "output_type": "display_data",
          "data": {
            "image/png": "[encoded data removed]",
            "text/plain": [
              "<matplotlib.figure.Figure at 0x7f9c36d41908>"
            ]
          },
          "metadata": {
            "tags": []
          }
        }
      ]
    }
  ]
}